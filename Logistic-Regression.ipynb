{
 "cells": [
  {
   "cell_type": "code",
   "execution_count": 2,
   "metadata": {},
   "outputs": [
    {
     "name": "stdout",
     "output_type": "stream",
     "text": [
      "Value (M$):0.02276291094016744\n",
      "Country of the Client_0:-0.030496931240874003\n",
      "Country of the Client_1:0.03690184939403138\n",
      "Industrial Sector of the Client_0:-0.218831501028789\n",
      "Industrial Sector of the Client_1:-0.05548397254835568\n",
      "Industrial Sector of the Client_2:0.04930409006498305\n",
      "Industrial Sector of the Client_3:-0.02330868431051232\n",
      "Industrial Sector of the Client_4:0.02811868354510513\n",
      "Industrial Sector of the Client_5:0.13144448349077906\n",
      "Industrial Sector of the Client_6:-0.4389898867623361\n",
      "Industrial Sector of the Client_7:0.534151705702271\n",
      "How was the Deal Identified_0:-0.08666898575782872\n",
      "How was the Deal Identified_1:0.15921745253723496\n",
      "How was the Deal Identified_2:-0.1932444159861148\n",
      "How was the Deal Identified_3:-0.17253307405605164\n",
      "How was the Deal Identified_4:0.29963394141592625\n",
      "Type of the Client_0:0.16771658343605764\n",
      "Type of the Client_1:-0.15141172564834987\n",
      "Type of the Client_2:0.005788829647146701\n",
      "Type of the Client_3:0.22643448916790418\n",
      "Type of the Client_4:0.3260922616808603\n",
      "Type of the Client_5:-0.4156713071442237\n",
      "Type of the Client_6:-0.3063651828958058\n",
      "Type of the Client_7:-0.3111426834031883\n",
      "Type of the Client_8:0.46496365331273953\n",
      "Relationship with the Client_0:-0.453507842766904\n",
      "Relationship with the Client_1:-0.3380234731859855\n",
      "Relationship with the Client_2:-0.13194041877681956\n",
      "Relationship with the Client_3:0.22368428377073368\n",
      "Relationship with the Client_4:0.7061923691121156\n"
     ]
    }
   ],
   "source": [
    "import pandas as pd\n",
    "import statistics\n",
    "import os\n",
    "from sklearn.model_selection import GridSearchCV\n",
    "import numpy as np\n",
    "from sklearn.linear_model import LogisticRegression\n",
    "from sklearn.model_selection import train_test_split\n",
    "from sklearn.preprocessing import PolynomialFeatures, scale\n",
    "from sklearn.utils import shuffle\n",
    "from sklearn.pipeline import make_pipeline\n",
    "from sklearn.preprocessing import scale, StandardScaler\n",
    "from sklearn.tree import DecisionTreeClassifier, export_graphviz\n",
    "from sklearn.neighbors import KNeighborsClassifier\n",
    "from sklearn.ensemble import RandomForestClassifier, AdaBoostClassifier\n",
    "from sklearn.svm import LinearSVC\n",
    "from sklearn.naive_bayes import GaussianNB\n",
    "from sklearn.discriminant_analysis import QuadraticDiscriminantAnalysis\n",
    "from sklearn.gaussian_process import GaussianProcessClassifier\n",
    "from sklearn.gaussian_process.kernels import RBF\n",
    "from sklearn.svm import SVC\n",
    "from sklearn.neural_network import MLPClassifier\n",
    "from sklearn.ensemble import GradientBoostingClassifier\n",
    "from sklearn.ensemble import VotingClassifier\n",
    "\n",
    "from sklearn.metrics import average_precision_score\n",
    "from sklearn.metrics import precision_recall_curve\n",
    "from sklearn.metrics import roc_curve\n",
    "from sklearn.metrics import average_precision_score\n",
    "from sklearn.metrics import precision_recall_fscore_support\n",
    "from sklearn.metrics import recall_score\n",
    "from sklearn.metrics import precision_score\n",
    "from sklearn.metrics import precision_score\n",
    "from sklearn.metrics import auc\n",
    "from sklearn.metrics import f1_score\n",
    "from sklearn.model_selection import cross_val_score\n",
    "\n",
    "import matplotlib.pyplot as plt\n",
    "import matplotlib\n",
    "import numbers\n",
    "import decimal\n",
    "import sys\n",
    "import ast\n",
    "import numpy as np\n",
    "from scipy import interp\n",
    "from itertools import cycle\n",
    "\n",
    "from sklearn import svm, datasets\n",
    "from sklearn.metrics import roc_curve, auc\n",
    "from sklearn.model_selection import StratifiedKFold\n",
    "\n",
    "\n",
    "resultsList=[]\n",
    "resultsList.append([\"Classifier Name\",\"Accuracy\", \"Mean Accuracy\", \"Standard Deviation of Accuracy\",\"Precision\", \"Recall\",\"Area Under Curve\", \"F1 Score\"])\n",
    "\n",
    "\n",
    "FILE_NAME=\"Input_df_4.xlsx\"\n",
    "\n",
    "data=pd.read_excel(FILE_NAME,index_col=False)\n",
    "# data.columns = ['Country of the Client', 'Industrial Sector of the Client','How was the Deal Identified', 'Type of the Client', 'Relationship with the Client', 'Value (M$)', 'Outcome']\n",
    "\n",
    "my_cols = list(data.columns)\n",
    "my_cols.pop()\n",
    "my_cols.pop()\n",
    "data=pd.get_dummies(data,columns=my_cols)\n",
    "\n",
    "Features=data.drop([\"Outcome\"],axis=1)\n",
    "\n",
    "X_train, X_test, y_train, y_test = train_test_split(Features, data[\"Outcome\"],train_size=0.8,test_size=0.2,stratify=data[\"Outcome\"], random_state=42)\n",
    "\n",
    "param_grid = {\"C\":10.**np.arange(-1,1)}   \n",
    "#Note the use of 10. not 10 because even in python 3, \n",
    "#the exponential power is integer unless the base is float, so 10**-3 is actually zero \n",
    "# (and that wouldn't work for the C parameter of logistic regression)\n",
    "\n",
    "grid_search = GridSearchCV(LogisticRegression(solver='lbfgs'), param_grid, cv=10)\n",
    "grid_search.fit(X_train, y_train)\n",
    "grid_search.predict(X_test)\n",
    "\n",
    "# print(\"Logistic Regression Results\")\n",
    "# print(grid_search.score(X_test, y_test))\n",
    "# print(\"\\n\")\n",
    "LogisticRegressionResults=grid_search.score(X_test, y_test)\n",
    "#print(grid_search.best_params_)\n",
    "y_score=  grid_search.predict(X_test)\n",
    "myClassifier=\"Logistic Regression\"\n",
    "#Calculate Accuracy, Precision, Recall, AUC, F1_score\n",
    "myAccuracy=grid_search.score(X_test, y_test)\n",
    "fpr,tpr,thresholds=roc_curve(y_test,y_score)\n",
    "myAUC = auc(fpr, tpr)\n",
    "myRecall=recall_score(y_test,y_score,pos_label=1,average='binary')\n",
    "myPrecision=precision_score(y_test,y_score,pos_label=1,average='binary')\n",
    "myF1Score=f1_score(y_test,y_score,pos_label=1,average='binary')\n",
    "\n",
    "scores=cross_val_score(grid_search,Features,data[\"Outcome\"],cv=10)\n",
    "#print(scores.mean())\n",
    "#print(scores.std())\n",
    "resultsList.append([myClassifier,myAccuracy,scores.mean(),scores.std(),myPrecision,myRecall,myAUC,myF1Score])\n",
    "\n",
    "# print(\"Logistic Regression Results\", \",\",LogisticRegressionResults)\n",
    "\n",
    "est = grid_search.best_estimator_\n",
    "varNames = list(Features.columns)\n",
    "for i in range(len(varNames)):\n",
    "    print(varNames[i] + \":\" + str(est.coef_[0, i]))\n",
    "\n",
    "coef = est.coef_[0]"
   ]
  },
  {
   "cell_type": "code",
   "execution_count": 3,
   "metadata": {},
   "outputs": [
    {
     "data": {
      "text/plain": [
       "{'cv': 10,\n",
       " 'error_score': 'raise-deprecating',\n",
       " 'estimator__C': 1.0,\n",
       " 'estimator__class_weight': None,\n",
       " 'estimator__dual': False,\n",
       " 'estimator__fit_intercept': True,\n",
       " 'estimator__intercept_scaling': 1,\n",
       " 'estimator__l1_ratio': None,\n",
       " 'estimator__max_iter': 100,\n",
       " 'estimator__multi_class': 'warn',\n",
       " 'estimator__n_jobs': None,\n",
       " 'estimator__penalty': 'l2',\n",
       " 'estimator__random_state': None,\n",
       " 'estimator__solver': 'lbfgs',\n",
       " 'estimator__tol': 0.0001,\n",
       " 'estimator__verbose': 0,\n",
       " 'estimator__warm_start': False,\n",
       " 'estimator': LogisticRegression(C=1.0, class_weight=None, dual=False, fit_intercept=True,\n",
       "                    intercept_scaling=1, l1_ratio=None, max_iter=100,\n",
       "                    multi_class='warn', n_jobs=None, penalty='l2',\n",
       "                    random_state=None, solver='lbfgs', tol=0.0001, verbose=0,\n",
       "                    warm_start=False),\n",
       " 'iid': 'warn',\n",
       " 'n_jobs': None,\n",
       " 'param_grid': {'C': array([0.1, 1. ])},\n",
       " 'pre_dispatch': '2*n_jobs',\n",
       " 'refit': True,\n",
       " 'return_train_score': False,\n",
       " 'scoring': None,\n",
       " 'verbose': 0}"
      ]
     },
     "execution_count": 3,
     "metadata": {},
     "output_type": "execute_result"
    }
   ],
   "source": [
    "grid_search.get_params()"
   ]
  },
  {
   "cell_type": "code",
   "execution_count": 4,
   "metadata": {},
   "outputs": [
    {
     "data": {
      "text/plain": [
       "LogisticRegression(C=1.0, class_weight=None, dual=False, fit_intercept=True,\n",
       "                   intercept_scaling=1, l1_ratio=None, max_iter=100,\n",
       "                   multi_class='warn', n_jobs=None, penalty='l2',\n",
       "                   random_state=None, solver='lbfgs', tol=0.0001, verbose=0,\n",
       "                   warm_start=False)"
      ]
     },
     "execution_count": 4,
     "metadata": {},
     "output_type": "execute_result"
    }
   ],
   "source": [
    "grid_search.best_estimator_"
   ]
  },
  {
   "cell_type": "code",
   "execution_count": 6,
   "metadata": {},
   "outputs": [
    {
     "data": {
      "text/plain": [
       "array([[ 0.02276291, -0.03049693,  0.03690185, -0.2188315 , -0.05548397,\n",
       "         0.04930409, -0.02330868,  0.02811868,  0.13144448, -0.43898989,\n",
       "         0.53415171, -0.08666899,  0.15921745, -0.19324442, -0.17253307,\n",
       "         0.29963394,  0.16771658, -0.15141173,  0.00578883,  0.22643449,\n",
       "         0.32609226, -0.41567131, -0.30636518, -0.31114268,  0.46496365,\n",
       "        -0.45350784, -0.33802347, -0.13194042,  0.22368428,  0.70619237]])"
      ]
     },
     "execution_count": 6,
     "metadata": {},
     "output_type": "execute_result"
    }
   ],
   "source": [
    "est.coef_"
   ]
  },
  {
   "cell_type": "code",
   "execution_count": null,
   "metadata": {},
   "outputs": [],
   "source": []
  }
 ],
 "metadata": {
  "kernelspec": {
   "display_name": "Python 3",
   "language": "python",
   "name": "python3"
  },
  "language_info": {
   "codemirror_mode": {
    "name": "ipython",
    "version": 3
   },
   "file_extension": ".py",
   "mimetype": "text/x-python",
   "name": "python",
   "nbconvert_exporter": "python",
   "pygments_lexer": "ipython3",
   "version": "3.7.1"
  }
 },
 "nbformat": 4,
 "nbformat_minor": 2
}
